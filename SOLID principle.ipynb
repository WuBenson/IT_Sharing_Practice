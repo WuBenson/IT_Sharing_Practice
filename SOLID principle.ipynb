{
 "cells": [
  {
   "cell_type": "markdown",
   "metadata": {},
   "source": [
    "## SOLID 原則\n",
    "---\n",
    "### SOLID 是 5 大原則的簡稱，分別為：\n",
    "+ S = Single-responsibility principle (**SRP**)  單一職責原則\n",
    "+ O = Open-closed principle (**OCP**)  開放封閉原則\n",
    "+ L = Liskov substitution principle (**LSP**)  里氏替換原則\n",
    "+ I = Interface segregation principle (**ISP**)  介面隔離原則\n",
    "+ D = Dependency inversion principle (**DIP**)  依賴反向原則"
   ]
  },
  {
   "cell_type": "markdown",
   "metadata": {},
   "source": [
    "---\n",
    "### 單一職責原則 (Single Responsibility Principle)\n",
    "> ***A class should have only one reason to change.*** <br><br>\n",
    "> 一個類別應該有且僅有一個原因引起的變更"
   ]
  },
  {
   "cell_type": "markdown",
   "metadata": {},
   "source": [
    "<img src=\"./SRP.png\" width = \"1000\" height = \"800\" alt=\"图片名称\" align=center />"
   ]
  },
  {
   "cell_type": "markdown",
   "metadata": {},
   "source": [
    "### 我的理解\n",
    "    一個類別 (data 與 function 的集合) 專注在一個特定功能或盡可能少的工作\n",
    "\n",
    "---\n",
    "\n",
    "### 舉例來說，所有的動物都會運動，假設今天都是陸生動物 :"
   ]
  },
  {
   "cell_type": "markdown",
   "metadata": {},
   "source": [
    "```python\n",
    "class Animal:\n",
    "    def __init__(self, name):\n",
    "        self._name = name\n",
    "        \n",
    "    def running(self):\n",
    "        print(self._name + \"在跑...\")\n",
    "        \n",
    "```"
   ]
  },
  {
   "cell_type": "markdown",
   "metadata": {},
   "source": [
    "### 假設今天突然多了水生生物，怎麼辦?\n",
    "+ 法一 :\n",
    "       \n",
    "  雖然快速，不過會增加 if ... else ... 的判斷，會增加 bug 的風險"
   ]
  },
  {
   "cell_type": "markdown",
   "metadata": {},
   "source": [
    "```python \n",
    "\n",
    "def running(self):\n",
    "    if (self._type == \"水生\"):\n",
    "        print(self._name + \"在游...\")\n",
    "    else:\n",
    "        print(self._name + \"在跑...\")  \n",
    "        \n",
    "```"
   ]
  },
  {
   "cell_type": "markdown",
   "metadata": {},
   "source": [
    "---\n",
    "\n",
    "+ 法二 :\n",
    "\n",
    "  符合單一職責原則，這樣還要先知道這個生物的運動方式，不然會有魚可以呼叫 running()..."
   ]
  },
  {
   "cell_type": "markdown",
   "metadata": {},
   "source": [
    "```python\n",
    "def running(self):\n",
    "    print(self._name + \"在跑...\")\n",
    "\n",
    "def swimming(self):\n",
    "    print(self._name + \"在游...\")\n",
    "        \n",
    "```"
   ]
  },
  {
   "cell_type": "markdown",
   "metadata": {},
   "source": [
    "---\n",
    "+ 法三 :\n",
    "\n",
    "  根據不同職責拆分成不同類別 : 陸生動物與水生動物"
   ]
  },
  {
   "cell_type": "markdown",
   "metadata": {},
   "source": [
    "```python\n",
    "class TerrestrialAnimal():\n",
    "    def __init__(self, name):\n",
    "        self._name = name\n",
    "        \n",
    "    def running(self):\n",
    "        print(self._name + \"在路上跑...\")\n",
    "        \n",
    "        \n",
    "class AquaticAnimal():\n",
    "    def __init__(self, name):\n",
    "        self._name = name\n",
    "        \n",
    "    def swimming(self):\n",
    "        print(self._name + \"在水裡游...\")\n",
    "```        "
   ]
  },
  {
   "cell_type": "markdown",
   "metadata": {},
   "source": [
    "---\n",
    "### 開放封閉原則 (Open-Closed Principle)\n",
    "> 　　***Software entities (classes, moudles, functions, etc.)\n",
    "> should be open for extension, but cloesd for modification.*** <br><br>\n",
    "> 　　軟體實體 (如類別、模組、函數等) 應該對拓展開放，對修改封閉。"
   ]
  },
  {
   "cell_type": "markdown",
   "metadata": {},
   "source": [
    "<img src=\"./OCP.png\" width = \"1000\" height = \"800\" alt=\"图片名称\" align=center />"
   ]
  },
  {
   "cell_type": "markdown",
   "metadata": {},
   "source": [
    "### 我的理解\n",
    "    盡可能增加類別的彈性，即便增加了新的功能時，也不會影響到舊有的功能。\n",
    "\n",
    "---\n",
    "\n",
    "### 假設今天要觀察每個動物是如何活動的..."
   ]
  },
  {
   "cell_type": "markdown",
   "metadata": {},
   "source": [
    "```python\n",
    "class Zoo:\n",
    "    def __init__(self):\n",
    "        self._animals = [\n",
    "            TerrestrialAnimal(\"狗\"),\n",
    "            TerrestrialAnimal(\"貓\"),\n",
    "            AquaticAnimal(\"魚\")\n",
    "        ]\n",
    "    \n",
    "    def displayActivity(self):\n",
    "        for animal in self._animals:\n",
    "            if isinstance(animal, TerrestrialAnimal):\n",
    "                animal.running()\n",
    "            else:\n",
    "                animal.swimming()\n",
    "```"
   ]
  },
  {
   "cell_type": "markdown",
   "metadata": {},
   "source": [
    "### 突然多出其他類型的生物 (如鳥類) 這時候可能就需要做調整增加 if ... else ..."
   ]
  },
  {
   "cell_type": "markdown",
   "metadata": {},
   "source": [
    "```python \n",
    "def displayActivity(self):\n",
    "    for animal in self._animals:\n",
    "        if isinstance(animal, TerrestrialAnimal):\n",
    "            animal.running()\n",
    "        elif isinstance(animal, BirdAnimal):\n",
    "            animal.flying()\n",
    "        else:\n",
    "            animal.swimming()\n",
    "\n",
    "```"
   ]
  },
  {
   "cell_type": "markdown",
   "metadata": {},
   "source": [
    "### 這樣不符合 \"OCP\"，因為每一次增加一個類別就要修改一次 displayActivity()，應該修改程式碼。\n",
    "\n",
    "---\n",
    "\n",
    "### 抽象化 moving ()"
   ]
  },
  {
   "cell_type": "markdown",
   "metadata": {},
   "source": [
    "```python\n",
    "from abc import ABCMeta, abstractmethod\n",
    "class Animal(metaclass=ABCMeta):\n",
    "    def __init__(self, name):\n",
    "        self._name = name\n",
    "        \n",
    "        @abstractmethod\n",
    "        def moving(self):\n",
    "            pass\n",
    "```"
   ]
  },
  {
   "cell_type": "markdown",
   "metadata": {},
   "source": [
    "### 接著為每個類別的動物具體描述運動細節"
   ]
  },
  {
   "cell_type": "markdown",
   "metadata": {},
   "source": [
    "```python\n",
    "class TerrestrialAnimal(Animal):\n",
    "    def __init__(self, name):\n",
    "        super().__init__(name)\n",
    "        \n",
    "    def moving(self):\n",
    "        print(self._name + \"在路上跑...\")\n",
    "        \n",
    "        \n",
    "class AquaticAnimal():\n",
    "    def __init__(self, name):\n",
    "        self._name = name\n",
    "        \n",
    "    def moving(self):\n",
    "        print(self._name + \"在水裡游...\")      \n",
    "        \n",
    "        \n",
    "class BirdlAnimal(Animal):\n",
    "    def __init__(self, name):\n",
    "        super().__init__(name)\n",
    "        \n",
    "    def moving(self):\n",
    "        print(self._name + \"在天空飛...\")\n",
    "```"
   ]
  },
  {
   "cell_type": "markdown",
   "metadata": {},
   "source": [
    "### 再來觀察 Zoo 中的動物運動狀態"
   ]
  },
  {
   "cell_type": "markdown",
   "metadata": {},
   "source": [
    "```python \n",
    "class Zoo:\n",
    "    def __init__(self):\n",
    "        self._animals = []\n",
    "        \n",
    "    def addAnimal(self, animal):\n",
    "        self._animals.append(animal)\n",
    "        \n",
    "    def displayAnimal(self):\n",
    "        for animal in self._animals:\n",
    "            animal.moving()\n",
    "            \n",
    "            \n",
    "def testZoo():\n",
    "    zoo = Zoo()\n",
    "    zoo.addAnimal(TerrestrialAnimal(\"狗\"))\n",
    "    zoo.addAnimal(AquaticAnimal(\"魚\"))\n",
    "    zoo.addAnimal(BirdlAnimal(\"鳥\"))\n",
    "    zoo.displayAnimal()\n",
    "    \n",
    "testZoo()\n",
    "```"
   ]
  },
  {
   "cell_type": "markdown",
   "metadata": {},
   "source": [
    "---\n",
    "### 里氏替換原則 (Liskov Substitution Principle)\n",
    "> 　　***Functions that use pointers to base classes must be able to use objects of derived classes without knowing it.*** <br><br>\n",
    "> 　　所有能引用基類別的地方必須能透明地使用其子類別的物件。"
   ]
  },
  {
   "cell_type": "markdown",
   "metadata": {},
   "source": [
    "<img src=\"./LSP.png\" width = \"1000\" height = \"800\" alt=\"图片名称\" align=center />"
   ]
  },
  {
   "cell_type": "markdown",
   "metadata": {},
   "source": [
    "### 我的理解\n",
    "    只要父類別出現的地方，子類別理應可以做替換; 子類別可以出現的地方，父類別不一定能替換。\n",
    "\n",
    "---\n",
    "\n",
    "### 陸生生物都會跑步，不過猴子還會爬樹，我們試著單獨定義該類別，並觀察其動作。"
   ]
  },
  {
   "cell_type": "markdown",
   "metadata": {},
   "source": [
    "```python\n",
    "class Monkey(TerrestrialAnimal):\n",
    "    def __init__(self, name):\n",
    "        super().__init__(name)\n",
    "        \n",
    "    def climbing(self):\n",
    "        print(self._name + \"在爬樹...\")\n",
    "```"
   ]
  },
  {
   "cell_type": "markdown",
   "metadata": {},
   "source": [
    "```python\n",
    "class Zoo:\n",
    "    def __init__(self):\n",
    "        self._animals = []\n",
    "        \n",
    "    def addAnimal(self, animal):\n",
    "        self._animals.append(animal)\n",
    "        \n",
    "    def displayAnimal(self):\n",
    "        for animal in self._animals:\n",
    "            animal.moving()\n",
    "            \n",
    "    def monkeyClimbing(self, monkey):\n",
    "        monkey.climbing()\n",
    "        \n",
    "\n",
    "def testZoo():\n",
    "    zoo = Zoo()\n",
    "    zoo.addAnimal(TerrestrialAnimal(\"狗\"))\n",
    "    zoo.addAnimal(AquaticAnimal(\"魚\"))\n",
    "    zoo.addAnimal(BirdlAnimal(\"鳥\"))\n",
    "    monkey = Monkey(\"猴\")\n",
    "    zoo.addAnimal(monkey)\n",
    "    zoo.displayAnimal()\n",
    "    print(\"\")\n",
    "    zoo.monkeyClimbing(monkey)\n",
    "    \n",
    "\n",
    "testZoo()\n",
    "```"
   ]
  },
  {
   "cell_type": "markdown",
   "metadata": {},
   "source": [
    "---\n",
    "### 介面隔離原則 (Interface Segregation Principle)\n",
    "> 　　***Clients should not be forced to depend upon interfaces that they don't use. Instead of one fat interface many small interfaces are preferred based on groups of methods, each one serving one submodule.*** <br><br>\n",
    "> 　　用戶端不應該依賴它用不到的介面。用多個細小的介面來代替由多個方法組成的複雜介面，每一個介面服務於一個子模組。"
   ]
  },
  {
   "cell_type": "markdown",
   "metadata": {},
   "source": [
    "<img src=\"./ISP.png\" width = \"1000\" height = \"800\" alt=\"图片名称\" align=center />"
   ]
  },
  {
   "cell_type": "markdown",
   "metadata": {},
   "source": [
    "### 我的理解\n",
    "    利用一個單一簡單的抽象介面，作為不同模型間的溝通方式，盡可能不要複雜化溝通的介面。\n",
    "\n",
    "---\n",
    "\n",
    "### 以動物來說，我們可以為動物做不同的分類:\n",
    "+ 生活方式 : (陸地、水裡、空中)\n",
    "+ 行為 : (奔跑、游泳、飛翔)\n",
    "+ 生理特徵 : (胎生、卵生)\n",
    "\n",
    "\n",
    "### 因此，可以將這些分類做成抽象介面，來提高程式設計的靈活度。"
   ]
  },
  {
   "cell_type": "markdown",
   "metadata": {},
   "source": [
    "```python\n",
    "class Animal(metaclass=ABCMeta):\n",
    "    def __init__(self, name):\n",
    "        self._name = name\n",
    "        \n",
    "    def getName(self):\n",
    "        return self._name\n",
    "    \n",
    "    @abstractmethod\n",
    "    def feature(self):\n",
    "        pass\n",
    "    \n",
    "    @abstractmethod\n",
    "    def moving(self):\n",
    "        pass\n",
    "```"
   ]
  },
  {
   "cell_type": "markdown",
   "metadata": {},
   "source": [
    "### 抽象化運動細節"
   ]
  },
  {
   "cell_type": "markdown",
   "metadata": {},
   "source": [
    "```python\n",
    "class IRunnable(metaclass=ABCMeta):\n",
    "    @abstractmethod\n",
    "    def running(self):\n",
    "        pass\n",
    "\n",
    "\n",
    "class IFlyable(metaclass=ABCMeta):\n",
    "    @abstractmethod\n",
    "    def flying(self):\n",
    "        pass\n",
    "    \n",
    "    \n",
    "class ISwimable(metaclass=ABCMeta):\n",
    "    @abstractmethod\n",
    "    def swimming(self):\n",
    "        pass\n",
    "```    "
   ]
  },
  {
   "cell_type": "markdown",
   "metadata": {},
   "source": [
    "### 描述運動細節"
   ]
  },
  {
   "cell_type": "markdown",
   "metadata": {},
   "source": [
    "```python \n",
    "class MammalAnimal(Animal, IRunnable):\n",
    "    def __init__(self, name):\n",
    "        super().__init__(name)\n",
    "        \n",
    "    def feature(self):\n",
    "        print(self._name + \"哺乳類\")\n",
    "        \n",
    "    def running(self):\n",
    "        print(\"在路上跑\")\n",
    "        \n",
    "    def moving(self):\n",
    "        print(self._name + \"活動方式: \", end=\"\")\n",
    "        self.running()\n",
    "\n",
    "\n",
    "class BirdAnimal(Animal, IFlyable):\n",
    "    def __init__(self, name):\n",
    "        super().__init__(name)\n",
    "        \n",
    "    def feature(self):\n",
    "        print(self._name + \"鳥類\")\n",
    "        \n",
    "    def flying(self):\n",
    "        print(\"在天上飛\")\n",
    "        \n",
    "    def moving(self):\n",
    "        print(self._name + \"活動方式: \", end=\"\")\n",
    "        self.flying()\n",
    "        \n",
    "        \n",
    "class FishAnimal(Animal, ISwimable):\n",
    "    def __init__(self, name):\n",
    "        super().__init__(name)\n",
    "        \n",
    "    def feature(self):\n",
    "        print(self._name + \"魚類\")\n",
    "        \n",
    "    def swimming(self):\n",
    "        print(\"在水裡游\")\n",
    "        \n",
    "    def moving(self):\n",
    "        print(self._name + \"活動方式: \", end=\"\")\n",
    "        self.swimming()\n",
    "```"
   ]
  },
  {
   "cell_type": "markdown",
   "metadata": {},
   "source": [
    "### 動物大多都有很多樣的運動方式，可以跑、游泳等等。"
   ]
  },
  {
   "cell_type": "markdown",
   "metadata": {},
   "source": [
    "```python\n",
    "class Bat(MammalAnimal, IFlyable):\n",
    "    def __init__(self, name):\n",
    "        super().__init__(name)\n",
    "        \n",
    "    def running(self):\n",
    "        print(\"跑不起來了\")\n",
    "        \n",
    "    def flying(self):\n",
    "        print(\"在空中飛\")\n",
    "        \n",
    "    def moving(self):\n",
    "        print(self._name + \"活動方式: \", end=\"\")\n",
    "        self.running()\n",
    "        self.flying()\n",
    "        \n",
    "        \n",
    "class Swan(BirdAnimal, IRunnable, ISwimable):\n",
    "    def __init__(self, name):\n",
    "        super().__init__(name)\n",
    "        \n",
    "    def running(self):\n",
    "        print(\"在路上跑\", end=\"\")\n",
    "        \n",
    "    def swimming(self):\n",
    "        print(\"在水裡游\", end=\"\")\n",
    "        \n",
    "    def moving(self):\n",
    "        print(self._name + \"活動方式: \", end=\"\")\n",
    "        self.running()\n",
    "        self.swimming()\n",
    "        self.flying()\n",
    "        \n",
    "        \n",
    "class CrucianCarp(FishAnimal):\n",
    "    def __init__(self, name):\n",
    "        super().__init__(name)\n",
    "```"
   ]
  },
  {
   "cell_type": "markdown",
   "metadata": {},
   "source": [
    "```python\n",
    "def testAnimal():\n",
    "    bat = Bat(\"蝙蝠\")\n",
    "    bat.feature()\n",
    "    bat.moving()\n",
    "    \n",
    "    swan = Swan(\"天鵝\")\n",
    "    swan.feature()\n",
    "    swan.moving()\n",
    "    \n",
    "    cruciancarp = CrucianCarp(\"鯽魚\")\n",
    "    cruciancarp.feature()\n",
    "    cruciancarp.moving()\n",
    "    \n",
    "    \n",
    "testAnimal()\n",
    "```"
   ]
  },
  {
   "cell_type": "markdown",
   "metadata": {},
   "source": [
    "---\n",
    "### 依賴反向原則 (Dependency Inversion Principle)\n",
    "> 　　***High level modules should not depend on low level modules; both should depend on abstractions. Abstractions should not depend on details. Details should depend upon abstractions.*** <br><br>\n",
    "> 　　高層模組不應依賴低層模組，它們都應依賴於抽象介面。抽象介面不應該依賴於具體實作，具體實作應依賴抽象介面。"
   ]
  },
  {
   "cell_type": "markdown",
   "metadata": {},
   "source": [
    "<img src=\"./DIP.png\" width = \"1000\" height = \"800\" alt=\"图片名称\" align=center />"
   ]
  },
  {
   "cell_type": "markdown",
   "metadata": {},
   "source": [
    "### 我的理解\n",
    "+ 把相同功能的類別轉成抽象介面 -> 訂定統一方法\n",
    "+ 具體的類別繼承這個抽象類別 -> 描述具體功能\n",
    "\n",
    "---\n",
    "\n",
    "### 這邊練習一個動物 (Animal) 都有喜歡吃的東西 (Food)"
   ]
  },
  {
   "cell_type": "markdown",
   "metadata": {},
   "source": [
    "```python\n",
    "class Animal(metaclass=ABCMeta):\n",
    "    def __init__(self, name):\n",
    "        self._name = name\n",
    "        \n",
    "    def eat(self, food):\n",
    "        if self.checkFood(food):\n",
    "            print(self._name + \"吃\" + food.getName())\n",
    "        else:\n",
    "            print(self._name + \"不吃\" + food.getName())\n",
    "            \n",
    "    @abstractmethod\n",
    "    def checkFood(self, food):\n",
    "        pass\n",
    "```"
   ]
  },
  {
   "cell_type": "markdown",
   "metadata": {},
   "source": [
    "### 繼承抽象物件後具體描述功能"
   ]
  },
  {
   "cell_type": "markdown",
   "metadata": {},
   "source": [
    "```python\n",
    "class Dog(Animal):\n",
    "    def __init__(self):\n",
    "        super().__init__(\"狗\")\n",
    "        \n",
    "    def checkFood(self, food):\n",
    "        return food.category() == \"肉類\"\n",
    "    \n",
    "\n",
    "class Swallow(Animal):\n",
    "    def __init__(self):\n",
    "        super().__init__(\"燕子\")\n",
    "        \n",
    "    def checkFood(self, food):\n",
    "        return food.category() == \"昆蟲\"\n",
    "```"
   ]
  },
  {
   "cell_type": "markdown",
   "metadata": {},
   "source": [
    "### 利用**依賴倒置原則**來設計:\n",
    "    抽象出動物 (Animal) 與食物 (Food)\n",
    "    兩個抽象物件相互依賴，避免發生抽象的動物依賴具體的食物"
   ]
  },
  {
   "cell_type": "markdown",
   "metadata": {},
   "source": [
    "```python\n",
    "class Food(metaclass=ABCMeta):\n",
    "    def __init__(self, name):\n",
    "        self._name = name\n",
    "        \n",
    "    def getName(self):\n",
    "        return self._name\n",
    "    \n",
    "    @abstractmethod\n",
    "    def category(self):\n",
    "        pass\n",
    "    \n",
    "    @abstractmethod\n",
    "    def nutrient(self):\n",
    "        pass\n",
    "    \n",
    "    \n",
    "class Meat(Food):\n",
    "    def __init__(self):\n",
    "        super().__init__(\"肉\")\n",
    "        \n",
    "    def category(self):\n",
    "        return \"肉類\"\n",
    "    \n",
    "    def nutrient(self):\n",
    "        return \"蛋白質、脂肪\"\n",
    "    \n",
    "    \n",
    "class Worm(Food):\n",
    "    def __init__(self):\n",
    "        super().__init__(\"蟲子\")\n",
    "        \n",
    "    def category(self):\n",
    "        return \"昆蟲\"\n",
    "    \n",
    "    def nutrient(self):\n",
    "        return \"蛋白質、微量元素\"\n",
    "    \n",
    "  \n",
    "def testFood():\n",
    "    dog = Dog()\n",
    "    swallow = Swallow()\n",
    "    meat = Meat()\n",
    "    worm = Worm()\n",
    "    dog.eat(meat)\n",
    "    dog.eat(worm)\n",
    "    swallow.eat(meat)\n",
    "    swallow.eat(worm)\n",
    "    \n",
    "testFood()\n",
    "\n",
    "```  "
   ]
  },
  {
   "cell_type": "markdown",
   "metadata": {},
   "source": [
    "### SOLID 結論 :\n",
    "---\n",
    "\n",
    "1. 單一職責原則 : 實現類別職責要單一，不要包攬太多事情。\n",
    "2. 開放封閉原則 : 保持設計的彈性。\n",
    "3. 裡氏替換原則 : 避免去破壞繼承關係。\n",
    "4. 介面隔離原則 : 適當拆分介面功能，精簡單一。\n",
    "5. 依賴倒置原則 : 面相介面的程式設計，不要依賴具體的實現。\n"
   ]
  },
  {
   "cell_type": "code",
   "execution_count": null,
   "metadata": {},
   "outputs": [],
   "source": []
  }
 ],
 "metadata": {
  "kernelspec": {
   "display_name": "Python 3.6.8 64-bit ('base': conda)",
   "language": "python",
   "name": "python36864bitbasecondac53457d0cd544030a8086fcf8ed7c8c9"
  },
  "language_info": {
   "codemirror_mode": {
    "name": "ipython",
    "version": 3
   },
   "file_extension": ".py",
   "mimetype": "text/x-python",
   "name": "python",
   "nbconvert_exporter": "python",
   "pygments_lexer": "ipython3",
   "version": "3.7.1"
  }
 },
 "nbformat": 4,
 "nbformat_minor": 4
}
